{
  "nbformat": 4,
  "nbformat_minor": 0,
  "metadata": {
    "colab": {
      "provenance": []
    },
    "kernelspec": {
      "name": "python3",
      "display_name": "Python 3"
    },
    "language_info": {
      "name": "python"
    }
  },
  "cells": [
    {
      "cell_type": "code",
      "execution_count": 17,
      "metadata": {
        "id": "MIeDWrPaTRl5"
      },
      "outputs": [],
      "source": []
    },
    {
      "cell_type": "markdown",
      "source": [
        "##1. Using basic statistical properties of the variance, as well as single- variable calculus, derive (5.6). In other words, prove that α given by (5.6) does indeed minimize Var(αX +(1−α)Y)."
      ],
      "metadata": {
        "id": "Y9jsfAXyWRcK"
      }
    },
    {
      "cell_type": "markdown",
      "source": [
        "### Deriving Optimal Investment Fraction Alpha\n",
        "\n",
        "To derive the value of **$\\alpha$** that minimizes $\\text{Var}(\\alpha X + (1 - \\alpha)Y)$, we start by expanding the variance expression using properties of variance and covariance:\n",
        "\n",
        "\\[\n",
        "$$\\text{Var}(\\alpha X + (1 - \\alpha)Y) = \\alpha^2 \\sigma_X^2 + (1 - \\alpha)^2 \\sigma_Y^2 + 2\\alpha(1 - \\alpha)\\sigma_{XY}\n",
        "\\$$]\n",
        "\n",
        "Expanding and simplifying the terms:\n",
        "\n",
        "$$\n",
        "f(\\alpha) = \\alpha^2 \\sigma_X^2 + \\sigma_Y^2 - 2\\alpha \\sigma_Y^2 + \\alpha^2 \\sigma_Y^2 + 2\\alpha \\sigma_{XY} - 2\\alpha^2 \\sigma_{XY}\n",
        "\\$$\n",
        "\n",
        "Combining like terms:\n",
        "\n",
        "$$\n",
        "f(\\alpha) = \\alpha^2 (\\sigma_X^2 + \\sigma_Y^2 - 2\\sigma_{XY}) - 2\\alpha (\\sigma_Y^2 - \\sigma_{XY}) + \\sigma_Y^2\n",
        "$$\n",
        "\n",
        "To find the critical point, take the derivative with respect to $\\alpha$ and set it to zero:\n",
        "\n",
        "$$\n",
        "f'(\\alpha) = 2\\alpha (\\sigma_X^2 + \\sigma_Y^2 - 2\\sigma_{XY}) - 2 (\\sigma_Y^2 - \\sigma_{XY}) = 0\n",
        "$$\n",
        "\n",
        "Solving for $\\alpha$ :\n",
        "$$2\\alpha(\\sigma_X^2 + \\sigma_Y^2 - 2\\sigma_{XY}) = 2(\\sigma_Y^2-\\sigma_{XY})$$\n",
        "$$\n",
        "$$\n",
        "$$\\alpha = \\frac{2(\\sigma_Y^2-\\sigma_{XY}}{2(\\sigma_X^2 + \\sigma_Y^2 - 2\\sigma_{XY})}\n",
        "$$\n",
        "$$\n",
        "$$\n",
        "\n",
        "$$\n",
        "\\alpha = \\frac{\\sigma_Y^2 - \\sigma_{XY}}{\\sigma_X^2 + \\sigma_Y^2 - 2\\sigma_{XY}}\n",
        "$$\n",
        "\n",
        "The second derivative **$f''(\\alpha) = 2(\\sigma_X^2 + \\sigma_Y^2 - 2\\sigma_{XY}) $** is positive (since variances and covariance ensure a positive denominator), confirming a minimum. Thus, the optimal $\\alpha$ is:\n",
        "\n",
        "**$$\n",
        "\\boxed{\\alpha = \\frac{\\sigma_Y^2 - \\sigma_{XY}}{\\sigma_X^2 + \\sigma_Y^2 - 2\\sigma_{XY}}}\n",
        "$$**"
      ],
      "metadata": {
        "id": "xPfKpjP7W67o"
      }
    },
    {
      "cell_type": "markdown",
      "source": [
        "##5.8\n",
        "###1. (a) Generate a simulated data set as follows:\n",
        "rng = np.random. default_rng (1)\\\n",
        "x = rng.normal(size =100)\\\n",
        "y = x - 2 * x**2 + rng.normal(size =100)\\\n",
        "\n",
        "In this data set, what is n and what is p? Write out the model\n",
        "used to generate the data in equation form."
      ],
      "metadata": {
        "id": "l_TiN_DBesj4"
      }
    },
    {
      "cell_type": "code",
      "source": [
        "#importing required libraries\n",
        "import numpy as np\n",
        "import matplotlib.pyplot as plt\n",
        "\n",
        "# set the seed for reproducibility\n",
        "rng = np.random.default_rng(1)\n",
        "\n",
        "# generate x values from a standard normal distribution\n",
        "x = rng.normal(size=100)\n",
        "\n",
        "#geberating y values from the given equation\n",
        "y = x - 2 * x**2 + rng.normal(size=100)"
      ],
      "metadata": {
        "id": "MjUDqKwyW8P4"
      },
      "execution_count": 21,
      "outputs": []
    },
    {
      "cell_type": "code",
      "source": [
        "#viewing the first few rows of generated data\n",
        "import pandas as pd\n",
        "data = pd.DataFrame({'x': x, 'y': y})\n",
        "data.head()"
      ],
      "metadata": {
        "colab": {
          "base_uri": "https://localhost:8080/",
          "height": 204
        },
        "id": "qkRWpWEPfgVZ",
        "outputId": "5e602d9f-3ef1-4cd3-ead3-91b8d8410b1d"
      },
      "execution_count": 24,
      "outputs": [
        {
          "output_type": "execute_result",
          "data": {
            "text/plain": [
              "          x         y\n",
              "0  0.345584 -0.544554\n",
              "1  0.821618  0.333950\n",
              "2  0.330437 -0.013532\n",
              "3 -1.303157 -4.030442\n",
              "4  0.905356  0.484861"
            ],
            "text/html": [
              "\n",
              "  <div id=\"df-01db7044-f3ff-4300-9c13-db7011739efb\" class=\"colab-df-container\">\n",
              "    <div>\n",
              "<style scoped>\n",
              "    .dataframe tbody tr th:only-of-type {\n",
              "        vertical-align: middle;\n",
              "    }\n",
              "\n",
              "    .dataframe tbody tr th {\n",
              "        vertical-align: top;\n",
              "    }\n",
              "\n",
              "    .dataframe thead th {\n",
              "        text-align: right;\n",
              "    }\n",
              "</style>\n",
              "<table border=\"1\" class=\"dataframe\">\n",
              "  <thead>\n",
              "    <tr style=\"text-align: right;\">\n",
              "      <th></th>\n",
              "      <th>x</th>\n",
              "      <th>y</th>\n",
              "    </tr>\n",
              "  </thead>\n",
              "  <tbody>\n",
              "    <tr>\n",
              "      <th>0</th>\n",
              "      <td>0.345584</td>\n",
              "      <td>-0.544554</td>\n",
              "    </tr>\n",
              "    <tr>\n",
              "      <th>1</th>\n",
              "      <td>0.821618</td>\n",
              "      <td>0.333950</td>\n",
              "    </tr>\n",
              "    <tr>\n",
              "      <th>2</th>\n",
              "      <td>0.330437</td>\n",
              "      <td>-0.013532</td>\n",
              "    </tr>\n",
              "    <tr>\n",
              "      <th>3</th>\n",
              "      <td>-1.303157</td>\n",
              "      <td>-4.030442</td>\n",
              "    </tr>\n",
              "    <tr>\n",
              "      <th>4</th>\n",
              "      <td>0.905356</td>\n",
              "      <td>0.484861</td>\n",
              "    </tr>\n",
              "  </tbody>\n",
              "</table>\n",
              "</div>\n",
              "    <div class=\"colab-df-buttons\">\n",
              "\n",
              "  <div class=\"colab-df-container\">\n",
              "    <button class=\"colab-df-convert\" onclick=\"convertToInteractive('df-01db7044-f3ff-4300-9c13-db7011739efb')\"\n",
              "            title=\"Convert this dataframe to an interactive table.\"\n",
              "            style=\"display:none;\">\n",
              "\n",
              "  <svg xmlns=\"http://www.w3.org/2000/svg\" height=\"24px\" viewBox=\"0 -960 960 960\">\n",
              "    <path d=\"M120-120v-720h720v720H120Zm60-500h600v-160H180v160Zm220 220h160v-160H400v160Zm0 220h160v-160H400v160ZM180-400h160v-160H180v160Zm440 0h160v-160H620v160ZM180-180h160v-160H180v160Zm440 0h160v-160H620v160Z\"/>\n",
              "  </svg>\n",
              "    </button>\n",
              "\n",
              "  <style>\n",
              "    .colab-df-container {\n",
              "      display:flex;\n",
              "      gap: 12px;\n",
              "    }\n",
              "\n",
              "    .colab-df-convert {\n",
              "      background-color: #E8F0FE;\n",
              "      border: none;\n",
              "      border-radius: 50%;\n",
              "      cursor: pointer;\n",
              "      display: none;\n",
              "      fill: #1967D2;\n",
              "      height: 32px;\n",
              "      padding: 0 0 0 0;\n",
              "      width: 32px;\n",
              "    }\n",
              "\n",
              "    .colab-df-convert:hover {\n",
              "      background-color: #E2EBFA;\n",
              "      box-shadow: 0px 1px 2px rgba(60, 64, 67, 0.3), 0px 1px 3px 1px rgba(60, 64, 67, 0.15);\n",
              "      fill: #174EA6;\n",
              "    }\n",
              "\n",
              "    .colab-df-buttons div {\n",
              "      margin-bottom: 4px;\n",
              "    }\n",
              "\n",
              "    [theme=dark] .colab-df-convert {\n",
              "      background-color: #3B4455;\n",
              "      fill: #D2E3FC;\n",
              "    }\n",
              "\n",
              "    [theme=dark] .colab-df-convert:hover {\n",
              "      background-color: #434B5C;\n",
              "      box-shadow: 0px 1px 3px 1px rgba(0, 0, 0, 0.15);\n",
              "      filter: drop-shadow(0px 1px 2px rgba(0, 0, 0, 0.3));\n",
              "      fill: #FFFFFF;\n",
              "    }\n",
              "  </style>\n",
              "\n",
              "    <script>\n",
              "      const buttonEl =\n",
              "        document.querySelector('#df-01db7044-f3ff-4300-9c13-db7011739efb button.colab-df-convert');\n",
              "      buttonEl.style.display =\n",
              "        google.colab.kernel.accessAllowed ? 'block' : 'none';\n",
              "\n",
              "      async function convertToInteractive(key) {\n",
              "        const element = document.querySelector('#df-01db7044-f3ff-4300-9c13-db7011739efb');\n",
              "        const dataTable =\n",
              "          await google.colab.kernel.invokeFunction('convertToInteractive',\n",
              "                                                    [key], {});\n",
              "        if (!dataTable) return;\n",
              "\n",
              "        const docLinkHtml = 'Like what you see? Visit the ' +\n",
              "          '<a target=\"_blank\" href=https://colab.research.google.com/notebooks/data_table.ipynb>data table notebook</a>'\n",
              "          + ' to learn more about interactive tables.';\n",
              "        element.innerHTML = '';\n",
              "        dataTable['output_type'] = 'display_data';\n",
              "        await google.colab.output.renderOutput(dataTable, element);\n",
              "        const docLink = document.createElement('div');\n",
              "        docLink.innerHTML = docLinkHtml;\n",
              "        element.appendChild(docLink);\n",
              "      }\n",
              "    </script>\n",
              "  </div>\n",
              "\n",
              "\n",
              "<div id=\"df-34d2e01a-8e51-4921-b5a6-b791a1c6ef65\">\n",
              "  <button class=\"colab-df-quickchart\" onclick=\"quickchart('df-34d2e01a-8e51-4921-b5a6-b791a1c6ef65')\"\n",
              "            title=\"Suggest charts\"\n",
              "            style=\"display:none;\">\n",
              "\n",
              "<svg xmlns=\"http://www.w3.org/2000/svg\" height=\"24px\"viewBox=\"0 0 24 24\"\n",
              "     width=\"24px\">\n",
              "    <g>\n",
              "        <path d=\"M19 3H5c-1.1 0-2 .9-2 2v14c0 1.1.9 2 2 2h14c1.1 0 2-.9 2-2V5c0-1.1-.9-2-2-2zM9 17H7v-7h2v7zm4 0h-2V7h2v10zm4 0h-2v-4h2v4z\"/>\n",
              "    </g>\n",
              "</svg>\n",
              "  </button>\n",
              "\n",
              "<style>\n",
              "  .colab-df-quickchart {\n",
              "      --bg-color: #E8F0FE;\n",
              "      --fill-color: #1967D2;\n",
              "      --hover-bg-color: #E2EBFA;\n",
              "      --hover-fill-color: #174EA6;\n",
              "      --disabled-fill-color: #AAA;\n",
              "      --disabled-bg-color: #DDD;\n",
              "  }\n",
              "\n",
              "  [theme=dark] .colab-df-quickchart {\n",
              "      --bg-color: #3B4455;\n",
              "      --fill-color: #D2E3FC;\n",
              "      --hover-bg-color: #434B5C;\n",
              "      --hover-fill-color: #FFFFFF;\n",
              "      --disabled-bg-color: #3B4455;\n",
              "      --disabled-fill-color: #666;\n",
              "  }\n",
              "\n",
              "  .colab-df-quickchart {\n",
              "    background-color: var(--bg-color);\n",
              "    border: none;\n",
              "    border-radius: 50%;\n",
              "    cursor: pointer;\n",
              "    display: none;\n",
              "    fill: var(--fill-color);\n",
              "    height: 32px;\n",
              "    padding: 0;\n",
              "    width: 32px;\n",
              "  }\n",
              "\n",
              "  .colab-df-quickchart:hover {\n",
              "    background-color: var(--hover-bg-color);\n",
              "    box-shadow: 0 1px 2px rgba(60, 64, 67, 0.3), 0 1px 3px 1px rgba(60, 64, 67, 0.15);\n",
              "    fill: var(--button-hover-fill-color);\n",
              "  }\n",
              "\n",
              "  .colab-df-quickchart-complete:disabled,\n",
              "  .colab-df-quickchart-complete:disabled:hover {\n",
              "    background-color: var(--disabled-bg-color);\n",
              "    fill: var(--disabled-fill-color);\n",
              "    box-shadow: none;\n",
              "  }\n",
              "\n",
              "  .colab-df-spinner {\n",
              "    border: 2px solid var(--fill-color);\n",
              "    border-color: transparent;\n",
              "    border-bottom-color: var(--fill-color);\n",
              "    animation:\n",
              "      spin 1s steps(1) infinite;\n",
              "  }\n",
              "\n",
              "  @keyframes spin {\n",
              "    0% {\n",
              "      border-color: transparent;\n",
              "      border-bottom-color: var(--fill-color);\n",
              "      border-left-color: var(--fill-color);\n",
              "    }\n",
              "    20% {\n",
              "      border-color: transparent;\n",
              "      border-left-color: var(--fill-color);\n",
              "      border-top-color: var(--fill-color);\n",
              "    }\n",
              "    30% {\n",
              "      border-color: transparent;\n",
              "      border-left-color: var(--fill-color);\n",
              "      border-top-color: var(--fill-color);\n",
              "      border-right-color: var(--fill-color);\n",
              "    }\n",
              "    40% {\n",
              "      border-color: transparent;\n",
              "      border-right-color: var(--fill-color);\n",
              "      border-top-color: var(--fill-color);\n",
              "    }\n",
              "    60% {\n",
              "      border-color: transparent;\n",
              "      border-right-color: var(--fill-color);\n",
              "    }\n",
              "    80% {\n",
              "      border-color: transparent;\n",
              "      border-right-color: var(--fill-color);\n",
              "      border-bottom-color: var(--fill-color);\n",
              "    }\n",
              "    90% {\n",
              "      border-color: transparent;\n",
              "      border-bottom-color: var(--fill-color);\n",
              "    }\n",
              "  }\n",
              "</style>\n",
              "\n",
              "  <script>\n",
              "    async function quickchart(key) {\n",
              "      const quickchartButtonEl =\n",
              "        document.querySelector('#' + key + ' button');\n",
              "      quickchartButtonEl.disabled = true;  // To prevent multiple clicks.\n",
              "      quickchartButtonEl.classList.add('colab-df-spinner');\n",
              "      try {\n",
              "        const charts = await google.colab.kernel.invokeFunction(\n",
              "            'suggestCharts', [key], {});\n",
              "      } catch (error) {\n",
              "        console.error('Error during call to suggestCharts:', error);\n",
              "      }\n",
              "      quickchartButtonEl.classList.remove('colab-df-spinner');\n",
              "      quickchartButtonEl.classList.add('colab-df-quickchart-complete');\n",
              "    }\n",
              "    (() => {\n",
              "      let quickchartButtonEl =\n",
              "        document.querySelector('#df-34d2e01a-8e51-4921-b5a6-b791a1c6ef65 button');\n",
              "      quickchartButtonEl.style.display =\n",
              "        google.colab.kernel.accessAllowed ? 'block' : 'none';\n",
              "    })();\n",
              "  </script>\n",
              "</div>\n",
              "\n",
              "    </div>\n",
              "  </div>\n"
            ],
            "application/vnd.google.colaboratory.intrinsic+json": {
              "type": "dataframe",
              "variable_name": "data",
              "summary": "{\n  \"name\": \"data\",\n  \"rows\": 100,\n  \"fields\": [\n    {\n      \"column\": \"x\",\n      \"properties\": {\n        \"dtype\": \"number\",\n        \"std\": 0.8558467188443057,\n        \"min\": -2.7111624789659685,\n        \"max\": 2.1178387550510482,\n        \"num_unique_values\": 100,\n        \"samples\": [\n          -1.1951630801031998,\n          -0.5014400184670523,\n          1.2246469675357323\n        ],\n        \"semantic_type\": \"\",\n        \"description\": \"\"\n      }\n    },\n    {\n      \"column\": \"y\",\n      \"properties\": {\n        \"dtype\": \"number\",\n        \"std\": 2.960727225288378,\n        \"min\": -14.864068638188634,\n        \"max\": 2.097053679347162,\n        \"num_unique_values\": 100,\n        \"samples\": [\n          -1.1804253183732367,\n          -1.9047992727065797,\n          -1.8473719682730096\n        ],\n        \"semantic_type\": \"\",\n        \"description\": \"\"\n      }\n    }\n  ]\n}"
            }
          },
          "metadata": {},
          "execution_count": 24
        }
      ]
    },
    {
      "cell_type": "markdown",
      "source": [
        "### In thos data n = 100 and p = 1 ( p is the predictor)\n",
        "### The model used is y = x - $2x^2$ + ε\n",
        "here x is independent variable/\n",
        "y is dependent variable\\\n",
        "ε represnt the error term. ( random noise)"
      ],
      "metadata": {
        "id": "R9isAj58j9j0"
      }
    },
    {
      "cell_type": "markdown",
      "source": [
        "###(b)Create a scatterplot of X against Y . Comment on what you find."
      ],
      "metadata": {
        "id": "HJXN_hCTlGoH"
      }
    },
    {
      "cell_type": "code",
      "source": [
        "#creating the scatterplot\n",
        "plt.scatter(x, y)\n",
        "plt.xlabel('X')\n",
        "plt.ylabel('Y')\n",
        "plt.title('Scatterplot of X vs Y')\n",
        "plt.show()"
      ],
      "metadata": {
        "colab": {
          "base_uri": "https://localhost:8080/",
          "height": 472
        },
        "id": "8zTNH733jsoH",
        "outputId": "a4544a4f-518d-45fd-f63d-e3e58f7d80e0"
      },
      "execution_count": 25,
      "outputs": [
        {
          "output_type": "display_data",
          "data": {
            "text/plain": [
              "<Figure size 640x480 with 1 Axes>"
            ],
            "image/png": "[encoded data removed]"
          },
          "metadata": {}
        }
      ]
    },
    {
      "cell_type": "markdown",
      "source": [
        "#### There is some outlair in this plot. the scatterplot visualizzes the non linear, negatice quadratic relationshio between X and Y as espected from the generated model. as X increase from -2 to 0 y increase and when X moving right y starts decreasing"
      ],
      "metadata": {
        "id": "rN3XeXtxlegI"
      }
    },
    {
      "cell_type": "markdown",
      "source": [
        "###(c) Set a random seed, and then compute the LOOCV errors that result from fitting the following four models using least squares:\n",
        "i. Y= β0 + β1X + ϵ\\\n",
        "ii. Y= β0 + β1X + β2X2 + ϵ\\\n",
        "iii. Y= β0 + β1X + β2X2 + β3X3 + ϵ\\\n",
        "iv. Y= β0 + β1X + β2X2 + β3X3 + β4X4 + ϵ.\\\n",
        "Note you may find it helpful to use the data.frame() function\n",
        "to create a single data set containing both X and Y."
      ],
      "metadata": {
        "id": "L2zOqmjJmHbg"
      }
    },
    {
      "cell_type": "code",
      "source": [
        "#importing required libraries\n",
        "from sklearn.model_selection import LeaveOneOut\n",
        "from sklearn.linear_model import LinearRegression\n",
        "from sklearn.preprocessing import PolynomialFeatures\n",
        "from sklearn.metrics import mean_squared_error\n",
        "\n",
        "#the model was given was are\n",
        "models = {\n",
        "    '1': PolynomialFeatures(degree=1),# Y= β0 + β1X + ϵ\n",
        "    '2': PolynomialFeatures(degree=2),# Y= β0 + β1X + β2X2 + ϵ\n",
        "    '3': PolynomialFeatures(degree=3),# Y= β0 + β1X + β2X2 + β3X3 + ϵ\n",
        "    '4': PolynomialFeatures(degree=4)# Y= β0 + β1X + β2X2 + β3X3 + β4X4 + ϵ\n",
        "}\n"
      ],
      "metadata": {
        "id": "XijSQWoolNe1"
      },
      "execution_count": 26,
      "outputs": []
    },
    {
      "cell_type": "code",
      "source": [
        "#initialize LeaveOneOut cross validator\n",
        "loo = LeaveOneOut()\n",
        "\n",
        "# store LOOCV for each model\n",
        "loocv_errors = {}\n",
        "\n",
        "#loop through each model\n",
        "for model_name, model in models.items():\n",
        "  errors = []\n",
        "  for train_index, test_index in loo.split(x):\n",
        "    X_train, X_test = x[train_index], x[test_index]\n",
        "    y_train, y_test = y[train_index], y[test_index]\n",
        "\n",
        "    #transform features for models\n",
        "    X_train_poly = model.fit_transform(X_train.reshape(-1, 1))\n",
        "    X_test_poly = model.transform(X_test.reshape(-1, 1))\n",
        "\n",
        "    # fitting the model\n",
        "    reg = LinearRegression().fit(X_train_poly, y_train)\n",
        "\n",
        "    #predicting the calculated error\n",
        "    y_pred = reg.predict(X_test_poly)\n",
        "    error = mean_squared_error(y_test, y_pred)\n",
        "    errors.append(error)\n",
        "  loocv_errors[model_name] = np.mean(errors)"
      ],
      "metadata": {
        "id": "NmwS49qxnJdt"
      },
      "execution_count": 27,
      "outputs": []
    },
    {
      "cell_type": "code",
      "source": [
        "# printing the LOOCV Errors\n",
        "for model_name, error in loocv_errors.items():\n",
        "  print(f\"{model_name}: {error}\")"
      ],
      "metadata": {
        "colab": {
          "base_uri": "https://localhost:8080/",
          "height": 0
        },
        "id": "nsR62IEIoEXN",
        "outputId": "ed312daf-ea6b-4ef0-dd94-fe81b3ecfaad"
      },
      "execution_count": 28,
      "outputs": [
        {
          "output_type": "stream",
          "name": "stdout",
          "text": [
            "1: 6.633029839181984\n",
            "2: 1.122936856341969\n",
            "3: 1.3017965489358863\n",
            "4: 1.3323942694179336\n"
          ]
        }
      ]
    },
    {
      "cell_type": "markdown",
      "source": [
        "### model 1 Has the highest error and the model 2 has the lowest error 1.123. so $X^2$ greatly improves the model ability to fit the data. Also $X^3$ and $X4$ does pretty well job expect X"
      ],
      "metadata": {
        "id": "8iVqp6fottZ_"
      }
    },
    {
      "cell_type": "markdown",
      "source": [
        "##(d) Repeat (c) using another random seed, and report your results. Are your results the same as what you got in (c)? Why?"
      ],
      "metadata": {
        "id": "FSLU3i4TxS1V"
      }
    },
    {
      "cell_type": "code",
      "source": [
        "#trying random seed 2\n",
        "rng = np.random.default_rng(2)\n",
        "\n",
        "# generate x values from a standard normal distribution\n",
        "x = rng.normal(size=100)\n",
        "\n",
        "#geberating y values from the given equation\n",
        "y = x - 2 * x**2 + rng.normal(size=100)\n",
        "\n",
        "#the model was given was are\n",
        "models = {\n",
        "    '1': PolynomialFeatures(degree=1),# Y= β0 + β1X + ϵ\n",
        "    '2': PolynomialFeatures(degree=2),# Y= β0 + β1X + β2X2 + ϵ\n",
        "    '3': PolynomialFeatures(degree=3),# Y= β0 + β1X + β2X2 + β3X3 + ϵ\n",
        "    '4': PolynomialFeatures(degree=4)# Y= β0 + β1X + β2X2 + β3X3 + β4X4 + ϵ\n",
        "}\n",
        "\n",
        "#initialize LeaveOneOut cross validator\n",
        "loo = LeaveOneOut()\n",
        "\n",
        "# store LOOCV for each model\n",
        "loocv_errors = {}\n",
        "\n",
        "#loop through each model\n",
        "for model_name, model in models.items():\n",
        "  errors = []\n",
        "  for train_index, test_index in loo.split(x):\n",
        "    X_train, X_test = x[train_index], x[test_index]\n",
        "    y_train, y_test = y[train_index], y[test_index]\n",
        "\n",
        "    #transform features for models\n",
        "    X_train_poly = model.fit_transform(X_train.reshape(-1, 1))\n",
        "    X_test_poly = model.transform(X_test.reshape(-1, 1))\n",
        "\n",
        "    # fitting the model\n",
        "    reg = LinearRegression().fit(X_train_poly, y_train)\n",
        "\n",
        "    #predicting the calculated error\n",
        "    y_pred = reg.predict(X_test_poly)\n",
        "    error = mean_squared_error(y_test, y_pred)\n",
        "    errors.append(error)\n",
        "  loocv_errors[model_name] = np.mean(errors)\n",
        "\n",
        "# printing the LOOCV Errors\n",
        "for model_name, error in loocv_errors.items():\n",
        "  print(f\"{model_name}: {error}\")"
      ],
      "metadata": {
        "colab": {
          "base_uri": "https://localhost:8080/",
          "height": 0
        },
        "id": "Ypap_gWnpwMG",
        "outputId": "ead638d2-04dd-4683-c65f-53d03c55405b"
      },
      "execution_count": 29,
      "outputs": [
        {
          "output_type": "stream",
          "name": "stdout",
          "text": [
            "1: 7.560603694358579\n",
            "2: 0.9840371744582587\n",
            "3: 0.9682355765918607\n",
            "4: 0.9659585554875687\n"
          ]
        }
      ]
    },
    {
      "cell_type": "markdown",
      "source": [
        "### Still Quartic, cubic and Quadratic model permorming better little bit different and better than C.\n",
        "Changing the random seed introduce different random noise in the the data generation process. The quadratic model is good choice for capturing the underlying relationship in the data, while higher-order polynomials might risk overfitting. This reinforces the importance of cross validation for assessign model performance and robustness"
      ],
      "metadata": {
        "id": "9zDoIZKMwGIN"
      }
    },
    {
      "cell_type": "markdown",
      "source": [
        "##(e) Which of the models in (c) had the smallest LOOCV error? Is this what you expected? Explain your answer."
      ],
      "metadata": {
        "id": "nnvmpKeNx6Kk"
      }
    },
    {
      "cell_type": "markdown",
      "source": [
        "Model i (Linear): 6.633\\\n",
        "Model ii (Quadratic): 1.123\\\n",
        "Model iii (Cubic): 1.302\\\n",
        "Model iv (Quartic): 1.332\n",
        "###**Model ii (Quadratic) has the smallest LOOCV error (1.123)**\n",
        "**YES** this is expected. The Quadratic model having the smallest LOOCV error is expected because it aligns with the true underlying relationship of data. The linear model is underfitting, while the cubic and quartic models might be slightly overfitting. The quadratic model provides the best fit for this specific datasets, achieving a balance between complexity and accuracy."
      ],
      "metadata": {
        "id": "1HZv8mGIx-Bv"
      }
    },
    {
      "cell_type": "markdown",
      "source": [
        "##(f) Comment on the statistical significance of the coefficient esti- mates that results from fitting each of the models in (c) using least squares. Do these results agree with the conclusions drawn based on the cross-validation results?"
      ],
      "metadata": {
        "id": "ePrQwOf3zPHr"
      }
    },
    {
      "cell_type": "markdown",
      "source": [
        "\n",
        "\n",
        "The cross-validation results showed the following Mean Squared Errors (MSE):\n",
        "\n",
        "Linear: 6.633\\\n",
        "Quadratic: 1.123\\\n",
        "Cubic: 1.302\\\n",
        "Quartic: 1.332\\\n",
        "The cross-validation results indicated that the quadratic model had the lowest test error, suggesting it was the best model among the four.\n",
        "\n",
        "The statistical significance of the coefficients generally agrees with these conclusions. The quadratic model has significant coefficients for both the x and $x^2$\n",
        "  terms, which aligns with the true underlying model used to generate the data (y=x−2$x^2$\n",
        " +ϵ).\n",
        "\n",
        "While the cubic and quartic models include significant lower-order terms, the highest-order terms (cubic in the cubic model and quartic in the quartic model) are not statistically significant (p > 0.05). This suggests that these higher-order terms might be overfitting the data, which is consistent with the slightly higher cross-validation MSEs observed for the cubic and quartic models compared to the quadratic model.\n",
        "\n",
        "The linear model has a significant coefficient for x, but its high cross-validation MSE indicates that it is underfitting the data because it misses the important quadratic term.\n",
        "\n",
        "In summary, the statistical significance of the coefficient estimates supports the conclusion from the cross-validation results that the quadratic model is the most appropriate for this dataset among the models considered."
      ],
      "metadata": {
        "id": "m04PQW4F3Sf-"
      }
    },
    {
      "cell_type": "code",
      "source": [],
      "metadata": {
        "id": "y0OfN4hmvA93"
      },
      "execution_count": 30,
      "outputs": []
    },
    {
      "cell_type": "code",
      "source": [],
      "metadata": {
        "id": "mc9EpL5zx5j5"
      },
      "execution_count": null,
      "outputs": []
    }
  ]
}